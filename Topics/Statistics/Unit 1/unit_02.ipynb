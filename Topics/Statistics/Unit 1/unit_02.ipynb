{
 "cells": [
  {
   "cell_type": "markdown",
   "metadata": {},
   "source": [
    "# Displaying and Computing Quantitative Data\n",
    "Can use same amazon dataset as before?\n",
    "\n",
    "In this unit, I will cover the following:\n",
    "- Representing Data (e.g., Table, Graph, Objects)\n",
    "- Frequency Table and Dot Plots\n",
    "- Histograms\n",
    "- Stem and Leaf Plots\n",
    "- Shapes of Distributions\n",
    "- Line Graphs"
   ]
  },
  {
   "cell_type": "code",
   "execution_count": null,
   "metadata": {},
   "outputs": [],
   "source": []
  }
 ],
 "metadata": {
  "language_info": {
   "name": "python"
  }
 },
 "nbformat": 4,
 "nbformat_minor": 2
}
