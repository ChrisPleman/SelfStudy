{
 "cells": [
  {
   "cell_type": "code",
   "execution_count": 1,
   "metadata": {},
   "outputs": [
    {
     "name": "stdout",
     "output_type": "stream",
     "text": [
      "yaya\n"
     ]
    }
   ],
   "source": [
    "print('yaya')"
   ]
  },
  {
   "cell_type": "code",
   "execution_count": null,
   "metadata": {},
   "outputs": [],
   "source": []
  },
  {
   "cell_type": "markdown",
   "metadata": {},
   "source": [
    "Concepts:\n",
    "- Lesson 1\n",
    "    - Individuals and Categorical/Numerical Variables/Data\n",
    "    - Pictographs\n",
    "        - Could import a bunch of emojis and generate graphs that way? But how would I insert that into a chart... I could do it via a print statement\n",
    "        - See this link for how to implement in matplotlib: https://www.geeksforgeeks.org/emojis-as-markers-in-matplotlib/\n",
    "    - Bar Charts\n",
    "        - Could use a variety of packages just for \"fun\"\n",
    "    - Mean, Median, Mode, Midrange, Range (Measures of Central Tendency)\n",
    "    - Pie Charts\n",
    "- Lesson 2\n",
    "    - Venn Diagram\n",
    "    - 2 Way Tables + 2 Way Relative Frequency Tables\n",
    "\n",
    "\n",
    "Goals:\n",
    "- I want to randomly generate data, so it could be good to generate classical datasets (iris) or we could find datasets on Kaggle\n",
    "- It will be good to provide an explanation of each of these\n",
    "- Do I want this to act as if I am preparing for someone else to study this? Regardless, it will be good to include explanations in markdown cells\n",
    "- I will want to use my own generated functions to test indepence for 2 way frequency table questions, I could have a separate file that I use where I implement my own functions to hide the syntax and clean things up\n",
    "- I think it will get good to have the opportunity to check your answers --> this will force me to ensure I understand how to calculate these things."
   ]
  },
  {
   "cell_type": "markdown",
   "metadata": {},
   "source": []
  }
 ],
 "metadata": {
  "kernelspec": {
   "display_name": ".venv",
   "language": "python",
   "name": "python3"
  },
  "language_info": {
   "codemirror_mode": {
    "name": "ipython",
    "version": 3
   },
   "file_extension": ".py",
   "mimetype": "text/x-python",
   "name": "python",
   "nbconvert_exporter": "python",
   "pygments_lexer": "ipython3",
   "version": "3.12.3"
  }
 },
 "nbformat": 4,
 "nbformat_minor": 2
}
