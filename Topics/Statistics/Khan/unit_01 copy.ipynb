{
 "cells": [
  {
   "cell_type": "code",
   "execution_count": 1,
   "metadata": {},
   "outputs": [
    {
     "name": "stdout",
     "output_type": "stream",
     "text": [
      "yaya\n"
     ]
    }
   ],
   "source": [
    "print('yaya')"
   ]
  },
  {
   "cell_type": "code",
   "execution_count": null,
   "metadata": {},
   "outputs": [],
   "source": []
  },
  {
   "cell_type": "markdown",
   "metadata": {},
   "source": [
    "Concepts:\n",
    "- Lesson 1\n",
    "    - Individuals and Categorical/Numerical Variables/Data\n",
    "    - Pictographs\n",
    "        - Could import a bunch of emojis and generate graphs that way? But how would I insert that into a chart... I could do it via a print statement\n",
    "        - See this link for how to implement in matplotlib: https://www.geeksforgeeks.org/emojis-as-markers-in-matplotlib/\n",
    "    - Bar Charts\n",
    "        - Could use a variety of packages just for \"fun\"\n",
    "    - Mean, Median, Mode, Midrange, Range (Measures of Central Tendency)\n",
    "    - Pie Charts\n",
    "- Lesson 2\n",
    "    - Venn Diagram\n",
    "        - https://www.geeksforgeeks.org/how-to-create-and-customize-venn-diagrams-in-python/\n",
    "    - 2 Way Tables + 2 Way Relative Frequency Tables\n",
    "\n",
    "\n",
    "Goals:\n",
    "- I want to randomly generate data, so it could be good to generate classical datasets (iris) or we could find datasets on Kaggle\n",
    "- It will be good to provide an explanation of each of these\n",
    "- Do I want this to act as if I am preparing for someone else to study this? Regardless, it will be good to include explanations in markdown cells\n",
    "- I will want to use my own generated functions to test indepence for 2 way frequency table questions, I could have a separate file that I use where I implement my own functions to hide the syntax and clean things up\n",
    "- I think it will get good to have the opportunity to check your answers --> this will force me to ensure I understand how to calculate these things."
   ]
  },
  {
   "cell_type": "markdown",
   "metadata": {},
   "source": [
    "## Analyzing one categorical variable"
   ]
  },
  {
   "cell_type": "code",
   "execution_count": 5,
   "metadata": {},
   "outputs": [
    {
     "name": "stdout",
     "output_type": "stream",
     "text": [
      "     Category  Cat 1  Cat 2\n",
      "0  category 1      0      1\n",
      "1  category 2      0      1\n",
      "2  category 1      0      0\n",
      "3  category 2      0      1\n",
      "4  category 2      1      1\n",
      "5  category 2      0      0\n",
      "6  category 2      1      0\n",
      "7  category 2      1      1\n",
      "8  category 2      1      1\n",
      "9  category 2      0      1\n",
      "[0, 0, 0]\n"
     ]
    }
   ],
   "source": [
    "import matplotlib.pyplot as plt\n",
    "import idk"
   ]
  },
  {
   "cell_type": "markdown",
   "metadata": {},
   "source": []
  },
  {
   "cell_type": "code",
   "execution_count": 45,
   "metadata": {},
   "outputs": [
    {
     "name": "stderr",
     "output_type": "stream",
     "text": [
      "Font 'rm' does not have a glyph for '\\U0001f919' [U+1f919], substituting with a dummy symbol.\n"
     ]
    },
    {
     "data": {
      "text/plain": [
       "[<matplotlib.lines.Line2D at 0x126ffd970>]"
      ]
     },
     "execution_count": 45,
     "metadata": {},
     "output_type": "execute_result"
    },
    {
     "data": {
      "image/png": "[encoded data removed]",
      "text/plain": [
       "<Figure size 640x480 with 1 Axes>"
      ]
     },
     "metadata": {},
     "output_type": "display_data"
    }
   ],
   "source": [
    "fig, ax = plt.subplots()\n",
    "\n",
    "marker = '$' + idk.get_random_emoji() + '$'\n",
    "ax.plot([1,2], [3,4], marker = marker, ms = 20)"
   ]
  },
  {
   "cell_type": "code",
   "execution_count": 2,
   "metadata": {},
   "outputs": [],
   "source": [
    "import numpy as np\n",
    "import random"
   ]
  },
  {
   "cell_type": "code",
   "execution_count": 3,
   "metadata": {},
   "outputs": [],
   "source": [
    "rArray = np.random.randint(1,10, random.randint(1,10))"
   ]
  },
  {
   "cell_type": "code",
   "execution_count": 6,
   "metadata": {},
   "outputs": [
    {
     "name": "stdout",
     "output_type": "stream",
     "text": [
      "\n",
      "        The set of data is [5 9],\n",
      "        The minimum value is 5,\n",
      "        The mean is 7.0,\n",
      "        The median is 7.0,\n",
      "        The mode of the dataset is/are: [5, 9],\n",
      "        The range is 4,\n",
      "        The midrange is 7.0\n",
      "        The maximum value is 9\n",
      "    \n"
     ]
    }
   ],
   "source": [
    "print(\n",
    "    f'''\n",
    "        The set of data is {rArray},\n",
    "        The minimum value is {np.min(rArray)},\n",
    "        The mean is {np.mean(rArray)},\n",
    "        The median is {np.median(rArray)},\n",
    "        {idk._mode(rArray)},\n",
    "        The range is {idk._range(rArray)},\n",
    "        The midrange is {idk._midrange(rArray)}\n",
    "        The maximum value is {np.max(rArray)}\n",
    "    '''\n",
    ")"
   ]
  },
  {
   "cell_type": "code",
   "execution_count": 63,
   "metadata": {},
   "outputs": [
    {
     "data": {
      "text/plain": [
       "array([5, 5, 1, 6, 8, 8, 5, 6])"
      ]
     },
     "execution_count": 63,
     "metadata": {},
     "output_type": "execute_result"
    }
   ],
   "source": [
    "rArray"
   ]
  },
  {
   "cell_type": "code",
   "execution_count": 7,
   "metadata": {},
   "outputs": [],
   "source": [
    "from collections import Counter"
   ]
  },
  {
   "cell_type": "code",
   "execution_count": 32,
   "metadata": {},
   "outputs": [
    {
     "name": "stdout",
     "output_type": "stream",
     "text": [
      "49.67940000000001\n",
      "49.415330000000004\n",
      "49.480885\n"
     ]
    },
    {
     "data": {
      "image/png": "[encoded data removed]",
      "text/plain": [
       "<Figure size 640x480 with 3 Axes>"
      ]
     },
     "metadata": {},
     "output_type": "display_data"
    }
   ],
   "source": [
    "fig, ax = plt.subplots(nrows=3, ncols=1, sharex=True, sharey=False)\n",
    "arr = np.ndarray(shape = (1,0),dtype=int)\n",
    "for i in range(100):\n",
    "    arr = np.append(arr, np.mean(np.random.randint(100, size = 100)))\n",
    "\n",
    "ax[0].hist(arr)\n",
    "ax[0].vlines(np.mean(arr), ymin=0, ymax=30)\n",
    "\n",
    "# Counter(arr)\n",
    "print(np.mean(arr))\n",
    "\n",
    "arr = np.ndarray(shape = (1,0),dtype=int)\n",
    "for i in range(1000):\n",
    "    arr = np.append(arr, np.mean(np.random.randint(100, size = 100)))\n",
    "\n",
    "ax[1].hist(arr)\n",
    "ax[1].vlines(np.mean(arr), ymin=0, ymax=300)\n",
    "\n",
    "# Counter(arr)\n",
    "print(np.mean(arr))\n",
    "\n",
    "arr = np.ndarray(shape = (1,0),dtype=int)\n",
    "for i in range(10000):\n",
    "    arr = np.append(arr, np.mean(np.random.randint(100, size = 100)))\n",
    "\n",
    "ax[2].hist(arr)\n",
    "ax[2].vlines(np.mean(arr), ymin=0, ymax=3000)\n",
    "\n",
    "# Counter(arr)\n",
    "print(np.mean(arr))"
   ]
  },
  {
   "cell_type": "code",
   "execution_count": null,
   "metadata": {},
   "outputs": [],
   "source": []
  },
  {
   "cell_type": "code",
   "execution_count": null,
   "metadata": {},
   "outputs": [],
   "source": []
  }
 ],
 "metadata": {
  "kernelspec": {
   "display_name": ".venv",
   "language": "python",
   "name": "python3"
  },
  "language_info": {
   "codemirror_mode": {
    "name": "ipython",
    "version": 3
   },
   "file_extension": ".py",
   "mimetype": "text/x-python",
   "name": "python",
   "nbconvert_exporter": "python",
   "pygments_lexer": "ipython3",
   "version": "3.12.3"
  }
 },
 "nbformat": 4,
 "nbformat_minor": 2
}
