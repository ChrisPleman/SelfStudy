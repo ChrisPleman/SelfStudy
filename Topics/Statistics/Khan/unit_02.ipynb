{
 "cells": [
  {
   "cell_type": "markdown",
   "metadata": {},
   "source": [
    "# Displaying and Comparing Quantitative Data\n",
    "Can use same amazon dataset as before?\n",
    "\n",
    "In this unit, I will cover the following:\n",
    "- Representing Data (e.g., Table, Graph, Objects)\n",
    "- Frequency Table and Dot Plots\n",
    "- Histograms\n",
    "- Stem and Leaf Plots\n",
    "- Shapes of Distributions\n",
    "- Line Graphs"
   ]
  },
  {
   "cell_type": "markdown",
   "metadata": {},
   "source": [
    "### to-do's\n",
    "- Lesson 1\n",
    "- Lesson 2\n",
    "- Lesson 3"
   ]
  },
  {
   "cell_type": "markdown",
   "metadata": {},
   "source": [
    "## Preparation"
   ]
  },
  {
   "cell_type": "markdown",
   "metadata": {},
   "source": [
    "Import the required libraries"
   ]
  },
  {
   "cell_type": "code",
   "execution_count": 19,
   "metadata": {},
   "outputs": [],
   "source": [
    "import pandas as pd\n",
    "import numpy as np\n",
    "import seaborn as sns\n",
    "import matplotlib.pyplot as plt\n",
    "from collections import Counter\n",
    "import arviz as az # has a dot plot method built in"
   ]
  },
  {
   "cell_type": "markdown",
   "metadata": {},
   "source": [
    "## Displaying Quatitative Data with Graphs"
   ]
  },
  {
   "cell_type": "markdown",
   "metadata": {},
   "source": [
    "In the previous unit we broke down the differences between two major types of variables, which you can find at this [link](unit_01.ipynb), so we will not go over the definition again in this notebook.\n",
    "\n",
    "Instead we will dive right into several ways in which we can display quantitative data:"
   ]
  },
  {
   "cell_type": "markdown",
   "metadata": {},
   "source": [
    "### to-do's\n",
    "- More documentation in histograms section\n",
    "- Figure out how to generate right skewed data (via a transform?)\n",
    "- Bimodal data?\n",
    "- Annotate plots with mean and standard deviation?\n",
    "- Could be good to show how the mean and standard deviation changes with different transformations\n",
    "- Probably going to skip stem and leaf plots because I hate them"
   ]
  },
  {
   "cell_type": "markdown",
   "metadata": {},
   "source": [
    "### Frequency Tables and Dot Plots"
   ]
  },
  {
   "cell_type": "markdown",
   "metadata": {},
   "source": [
    "Instead of using a dataset, I think it could be interesting to generate some random data to for these examples."
   ]
  },
  {
   "cell_type": "markdown",
   "metadata": {},
   "source": [
    "#### Frequency Table"
   ]
  },
  {
   "cell_type": "code",
   "execution_count": 7,
   "metadata": {},
   "outputs": [
    {
     "data": {
      "text/plain": [
       "array([10,  7,  0,  8,  6,  1,  5,  6,  3,  5,  8,  9,  6,  1,  3,  2,  3,\n",
       "        3, 10,  7,  0,  6,  2, 10,  0,  1,  6, 10,  6,  4,  9,  5,  3,  9,\n",
       "        0,  9,  8,  9,  9,  1,  3,  7,  0,  3,  7,  3,  6,  2,  2,  1,  7,\n",
       "        2,  0,  7,  6,  2,  5,  2,  7,  3,  5,  8,  7,  2, 10,  1,  2,  0,\n",
       "        4, 10,  4,  2,  9,  6,  7,  8,  6,  8, 10,  2,  2,  7,  6,  7,  8,\n",
       "        5,  2,  0, 10,  7,  5,  2,  7,  4,  7,  1,  6,  1,  9,  0])"
      ]
     },
     "execution_count": 7,
     "metadata": {},
     "output_type": "execute_result"
    }
   ],
   "source": [
    "# generate a random array of numbers between 1 and 10\n",
    "_min = 0 # invclusive\n",
    "_max = 11 # exclusive\n",
    "_size = 100\n",
    "random_array = np.random.randint(_min, _max, size=_size)\n",
    "random_array"
   ]
  },
  {
   "cell_type": "code",
   "execution_count": 10,
   "metadata": {},
   "outputs": [
    {
     "data": {
      "text/plain": [
       "Counter({7: 14, 2: 14, 6: 12, 0: 9, 3: 9, 10: 8, 1: 8, 9: 8, 8: 7, 5: 7, 4: 4})"
      ]
     },
     "execution_count": 10,
     "metadata": {},
     "output_type": "execute_result"
    }
   ],
   "source": [
    "# use the Counter class to quickly generate a dictionary\n",
    "counted_values = Counter(random_array)\n",
    "counted_values"
   ]
  },
  {
   "cell_type": "code",
   "execution_count": 18,
   "metadata": {},
   "outputs": [
    {
     "data": {
      "text/html": [
       "<div>\n",
       "<style scoped>\n",
       "    .dataframe tbody tr th:only-of-type {\n",
       "        vertical-align: middle;\n",
       "    }\n",
       "\n",
       "    .dataframe tbody tr th {\n",
       "        vertical-align: top;\n",
       "    }\n",
       "\n",
       "    .dataframe thead th {\n",
       "        text-align: right;\n",
       "    }\n",
       "</style>\n",
       "<table border=\"1\" class=\"dataframe\">\n",
       "  <thead>\n",
       "    <tr style=\"text-align: right;\">\n",
       "      <th></th>\n",
       "      <th>Number</th>\n",
       "      <th>Count</th>\n",
       "    </tr>\n",
       "  </thead>\n",
       "  <tbody>\n",
       "    <tr>\n",
       "      <th>0</th>\n",
       "      <td>0</td>\n",
       "      <td>9</td>\n",
       "    </tr>\n",
       "    <tr>\n",
       "      <th>1</th>\n",
       "      <td>1</td>\n",
       "      <td>8</td>\n",
       "    </tr>\n",
       "    <tr>\n",
       "      <th>2</th>\n",
       "      <td>2</td>\n",
       "      <td>14</td>\n",
       "    </tr>\n",
       "    <tr>\n",
       "      <th>3</th>\n",
       "      <td>3</td>\n",
       "      <td>9</td>\n",
       "    </tr>\n",
       "    <tr>\n",
       "      <th>4</th>\n",
       "      <td>4</td>\n",
       "      <td>4</td>\n",
       "    </tr>\n",
       "    <tr>\n",
       "      <th>5</th>\n",
       "      <td>5</td>\n",
       "      <td>7</td>\n",
       "    </tr>\n",
       "    <tr>\n",
       "      <th>6</th>\n",
       "      <td>6</td>\n",
       "      <td>12</td>\n",
       "    </tr>\n",
       "    <tr>\n",
       "      <th>7</th>\n",
       "      <td>7</td>\n",
       "      <td>14</td>\n",
       "    </tr>\n",
       "    <tr>\n",
       "      <th>8</th>\n",
       "      <td>8</td>\n",
       "      <td>7</td>\n",
       "    </tr>\n",
       "    <tr>\n",
       "      <th>9</th>\n",
       "      <td>9</td>\n",
       "      <td>8</td>\n",
       "    </tr>\n",
       "    <tr>\n",
       "      <th>10</th>\n",
       "      <td>10</td>\n",
       "      <td>8</td>\n",
       "    </tr>\n",
       "  </tbody>\n",
       "</table>\n",
       "</div>"
      ],
      "text/plain": [
       "    Number  Count\n",
       "0        0      9\n",
       "1        1      8\n",
       "2        2     14\n",
       "3        3      9\n",
       "4        4      4\n",
       "5        5      7\n",
       "6        6     12\n",
       "7        7     14\n",
       "8        8      7\n",
       "9        9      8\n",
       "10      10      8"
      ]
     },
     "execution_count": 18,
     "metadata": {},
     "output_type": "execute_result"
    }
   ],
   "source": [
    "# store as a dataframe to represent a frequency table\n",
    "frequency_table = pd.DataFrame.from_dict(counted_values, orient='index').sort_index().reset_index()\n",
    "\n",
    "# change the column names\n",
    "frequency_table.columns = ['Number', 'Count']\n",
    "\n",
    "# return the table\n",
    "frequency_table"
   ]
  },
  {
   "cell_type": "markdown",
   "metadata": {},
   "source": [
    "#### Dot Plot"
   ]
  },
  {
   "cell_type": "markdown",
   "metadata": {},
   "source": [
    "Using the ArviZ visualization library I found through stack overflow post, I found that they have a dot plot function built into their library. The documentation can be found [here](https://python.arviz.org/en/stable/index.html).\n",
    "\n",
    "One draw back below is that there doesn't seem to be a way to add a y-axis, and there's no mention of the fact that the points on the graph are in units of 2 counts, and will round up (i.e., show a full dot) for odd frequencies.\n",
    "\n",
    "Nevertheless, it's nice that there's a visualization software built on top of matplotlib that has simple syntax for building a this type of visualization."
   ]
  },
  {
   "cell_type": "code",
   "execution_count": 36,
   "metadata": {},
   "outputs": [
    {
     "data": {
      "image/png": "[encoded data removed]",
      "text/plain": [
       "<Figure size 500x200 with 1 Axes>"
      ]
     },
     "metadata": {},
     "output_type": "display_data"
    }
   ],
   "source": [
    "dot_plot = az.plot_dot(\n",
    "    random_array,\n",
    "    dotsize=.5,\n",
    "    figsize=(5,2),\n",
    ")\n",
    "\n",
    "dot_plot.set_title('Dot Plot of Uniform Random Data');"
   ]
  },
  {
   "cell_type": "markdown",
   "metadata": {},
   "source": [
    "### Histograms"
   ]
  },
  {
   "cell_type": "markdown",
   "metadata": {},
   "source": [
    "Again, it could be fun to play around with some random data, so we will generate some more random data below."
   ]
  },
  {
   "cell_type": "code",
   "execution_count": 44,
   "metadata": {},
   "outputs": [],
   "source": [
    "# This time we will want the minimum to be close to zero, but not exactly zero\n",
    "_min = .1\n",
    "_max = 10.1\n",
    "_size = 10000 # it will be good to have a large size to more closely match the distribution it's sampled from\n",
    "rand_uniform = np.random.uniform(\n",
    "    low=_min, \n",
    "    high=_max, \n",
    "    size=_size\n",
    "    )\n",
    "\n",
    "# generating normally distributed random data, with the same size as the array above\n",
    "_loc = 5\n",
    "_scale = 2\n",
    "rand_normal = np.random.normal(\n",
    "    loc=_loc, \n",
    "    scale=_scale, \n",
    "    size=_size\n",
    "    )"
   ]
  },
  {
   "cell_type": "markdown",
   "metadata": {},
   "source": [
    "#### Uniformly Distributed Data"
   ]
  },
  {
   "cell_type": "code",
   "execution_count": 45,
   "metadata": {},
   "outputs": [
    {
     "data": {
      "text/plain": [
       "<Axes: ylabel='Count'>"
      ]
     },
     "execution_count": 45,
     "metadata": {},
     "output_type": "execute_result"
    },
    {
     "data": {
      "image/png": "[encoded data removed]",
      "text/plain": [
       "<Figure size 640x480 with 1 Axes>"
      ]
     },
     "metadata": {},
     "output_type": "display_data"
    }
   ],
   "source": [
    "sns.histplot(rand_uniform)"
   ]
  },
  {
   "cell_type": "markdown",
   "metadata": {},
   "source": [
    "#### Normally Distributed Data"
   ]
  },
  {
   "cell_type": "code",
   "execution_count": 46,
   "metadata": {},
   "outputs": [
    {
     "data": {
      "text/plain": [
       "<Axes: ylabel='Count'>"
      ]
     },
     "execution_count": 46,
     "metadata": {},
     "output_type": "execute_result"
    },
    {
     "data": {
      "image/png": "[encoded data removed]",
      "text/plain": [
       "<Figure size 640x480 with 1 Axes>"
      ]
     },
     "metadata": {},
     "output_type": "display_data"
    }
   ],
   "source": [
    "sns.histplot(\n",
    "    rand_normal\n",
    ")"
   ]
  },
  {
   "cell_type": "markdown",
   "metadata": {},
   "source": [
    "#### Skewed Data"
   ]
  },
  {
   "cell_type": "markdown",
   "metadata": {},
   "source": [
    "##### Left Skewed Data"
   ]
  },
  {
   "cell_type": "code",
   "execution_count": 62,
   "metadata": {},
   "outputs": [
    {
     "data": {
      "text/plain": [
       "<Axes: ylabel='Count'>"
      ]
     },
     "execution_count": 62,
     "metadata": {},
     "output_type": "execute_result"
    },
    {
     "data": {
      "image/png": "[encoded data removed]",
      "text/plain": [
       "<Figure size 640x480 with 1 Axes>"
      ]
     },
     "metadata": {},
     "output_type": "display_data"
    }
   ],
   "source": [
    "left_skewed = np.multiply(rand_normal,rand_normal)\n",
    "sns.histplot(\n",
    "    left_skewed\n",
    "    )"
   ]
  },
  {
   "cell_type": "markdown",
   "metadata": {},
   "source": [
    "##### Right Skewed"
   ]
  },
  {
   "cell_type": "markdown",
   "metadata": {},
   "source": [
    "Need to figure out how to make this work"
   ]
  },
  {
   "cell_type": "code",
   "execution_count": 71,
   "metadata": {},
   "outputs": [],
   "source": [
    "right_skewed = np.multiply(1+rand_uniform, 1+rand_uniform)"
   ]
  },
  {
   "cell_type": "code",
   "execution_count": 72,
   "metadata": {},
   "outputs": [
    {
     "data": {
      "text/plain": [
       "<Axes: ylabel='Count'>"
      ]
     },
     "execution_count": 72,
     "metadata": {},
     "output_type": "execute_result"
    },
    {
     "data": {
      "image/png": "[encoded data removed]",
      "text/plain": [
       "<Figure size 640x480 with 1 Axes>"
      ]
     },
     "metadata": {},
     "output_type": "display_data"
    }
   ],
   "source": [
    "sns.histplot(\n",
    "    right_skewed\n",
    ")"
   ]
  },
  {
   "cell_type": "code",
   "execution_count": null,
   "metadata": {},
   "outputs": [],
   "source": []
  }
 ],
 "metadata": {
  "kernelspec": {
   "display_name": ".venv",
   "language": "python",
   "name": "python3"
  },
  "language_info": {
   "codemirror_mode": {
    "name": "ipython",
    "version": 3
   },
   "file_extension": ".py",
   "mimetype": "text/x-python",
   "name": "python",
   "nbconvert_exporter": "python",
   "pygments_lexer": "ipython3",
   "version": "3.12.4"
  }
 },
 "nbformat": 4,
 "nbformat_minor": 2
}
