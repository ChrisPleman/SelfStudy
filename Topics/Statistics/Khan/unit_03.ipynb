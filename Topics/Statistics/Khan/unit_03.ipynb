{
 "cells": [
  {
   "cell_type": "markdown",
   "metadata": {},
   "source": [
    "# Summarizing Data"
   ]
  },
  {
   "cell_type": "markdown",
   "metadata": {},
   "source": [
    "### to-do's\n",
    "- Lesson 1: Measuring center in quantitative data\n",
    "    - Mean, median, mode\n",
    "    - Could be cool to look at arithmetic, geomgetric, and harmonic mean (any others?)\n",
    "- Lesson 2: More on mean and median\n",
    "    - Comparing means and medians of distributions\n",
    "    - Effect of outlier on mean and median\n",
    "    - Effect of missing value on mean and median\n",
    "- Lesson 3: Interquartile Range\n",
    "    - IQR and range v IQR\n",
    "- Lesson 4: Variance and standard deviation of a population\n",
    "    - Measures of spread\n",
    "    - Variance of a population\n",
    "    - Population StdDev\n",
    "    - Mean/StdDev v Median/IQR\n",
    "    - Alternate variance formulas\n",
    "- Lesson 5: Variance and standard deviation of a sample\n",
    "    - Sample variance\n",
    "    - Sample standard deviation and bias\n",
    "- Lesson 6: More on standard deviation\n",
    "    - Why divide by n-1\n",
    "    - Bias in sample variance\n",
    "- Lesson 7: Box and whisker plots\n",
    "    - Constructing and reading box/whisker plots"
   ]
  },
  {
   "cell_type": "markdown",
   "metadata": {},
   "source": [
    "## Preparation"
   ]
  },
  {
   "cell_type": "markdown",
   "metadata": {},
   "source": [
    "## Measuring center in quantitative data & More on mean and median"
   ]
  },
  {
   "cell_type": "markdown",
   "metadata": {},
   "source": [
    "## Interquartile Range"
   ]
  },
  {
   "cell_type": "markdown",
   "metadata": {},
   "source": [
    "## Variance and Standard Deviation"
   ]
  },
  {
   "cell_type": "markdown",
   "metadata": {},
   "source": [
    "### Population"
   ]
  },
  {
   "cell_type": "markdown",
   "metadata": {},
   "source": [
    "### Sample"
   ]
  },
  {
   "cell_type": "markdown",
   "metadata": {},
   "source": [
    "## More on standard deviation"
   ]
  },
  {
   "cell_type": "markdown",
   "metadata": {},
   "source": [
    "## Box and whisker plots"
   ]
  },
  {
   "cell_type": "markdown",
   "metadata": {},
   "source": []
  }
 ],
 "metadata": {
  "language_info": {
   "name": "python"
  }
 },
 "nbformat": 4,
 "nbformat_minor": 2
}
